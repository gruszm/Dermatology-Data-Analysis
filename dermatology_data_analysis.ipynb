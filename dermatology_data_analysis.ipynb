{
 "cells": [
  {
   "cell_type": "markdown",
   "metadata": {},
   "source": [
    "Źrodło danych: https://archive.ics.uci.edu/dataset/33/dermatology\n",
    "\n",
    "Ta baza danych zawiera 34 atrybuty, z których 33 mają wartości liniowe, a jeden jest nominalny.\n",
    "Różnicowa diagnoza chorób erytematyczno-łuszczycowych jest rzeczywistym problemem w dermatologii. \n",
    "Wszystkie one mają wspólne cechy kliniczne (zaczerwienienie i łuszczenie), z bardzo małymi różnicami. \n",
    "Choroby w tej grupie to łuszczyca, łojotokowe zapalenie skóry, liszaj płaski, łupież różowy, przewlekłe zapalenie skóry i łupież rubra mieszkowy. \n",
    "Zazwyczaj do diagnozy konieczna jest biopsja, ale niestety te choroby mają także wiele wspólnych cech histopatologicznych. \n",
    "Kolejnym utrudnieniem dla różnicowej diagnozy jest to, że choroba może wykazywać cechy innej choroby na początkowym etapie, \n",
    "a następnie charakterystyczne cechy na kolejnych etapach. Pacjenci zostali najpierw ocenieni klinicznie pod kątem 12 cech. \n",
    "Następnie pobrano próbki skóry do oceny 22 cech histopatologicznych. Wartości cech histopatologicznych są określane przez analizę próbek pod mikroskopem.\n",
    "W zestawie danych skonstruowanym dla tej dziedziny, cecha historii rodzinnej ma wartość 1, \n",
    "jeśli jakiekolwiek z tych chorób zostało zaobserwowane w rodzinie, a 0 w przeciwnym razie. \n",
    "Cecha wieku po prostu reprezentuje wiek pacjenta. Każda inna cecha (kliniczna i histopatologiczna) została przypisana stopniowi w zakresie od 0 do 3. \n",
    "Tutaj 0 oznacza, że cecha nie była obecna, 3 oznacza największą możliwą ilość, a 1, 2 wskazują na wartości pośrednie względem siebie.\n",
    "\n",
    "Nazwy i numery identyfikacyjne pacjentów zostały niedawno usunięte z bazy danych."
   ]
  },
  {
   "cell_type": "code",
   "execution_count": null,
   "metadata": {},
   "outputs": [],
   "source": [
    "# Import potrzebnych bibliotek\n",
    "\n",
    "import pandas as pd\n",
    "import matplotlib.pyplot as plt\n",
    "import seaborn as sns"
   ]
  },
  {
   "cell_type": "markdown",
   "metadata": {},
   "source": [
    "Wczytanie danych z pliku"
   ]
  },
  {
   "cell_type": "code",
   "execution_count": null,
   "metadata": {},
   "outputs": [],
   "source": [
    "# Ścieżka do pliku\n",
    "file_path = \"data/dermatology.data\" \n",
    "\n",
    "# Nazwy kolumn w kolejności według numerów\n",
    "column_names = [\n",
    "    \"erythema\",\n",
    "    \"scaling\",\n",
    "    \"definite_borders\",\n",
    "    \"itching\",\n",
    "    \"koebner_phenomenon\",\n",
    "    \"polygonal_papules\",\n",
    "    \"follicular_papules\",\n",
    "    \"oral_mucosal_involvement\",\n",
    "    \"knee_and_elbow_involvement\",\n",
    "    \"scalp_involvement\",\n",
    "    \"family_history\",\n",
    "    \"melanin_incontinence\",\n",
    "    \"eosinophils_in_the_infiltrate\",\n",
    "    \"PNL_infiltrate\",\n",
    "    \"fibrosis_of_the_papillary_dermis\",\n",
    "    \"exocytosis\",\n",
    "    \"acanthosis\",\n",
    "    \"hyperkeratosis\",\n",
    "    \"parakeratosis\",\n",
    "    \"clubbing_of_the_rete_ridges\",\n",
    "    \"elongation_of_the_rete_ridges\",\n",
    "    \"thinning_of_the_suprapapillary_epidermis\",\n",
    "    \"spongiform_pustule\",\n",
    "    \"munro_microabcess\",\n",
    "    \"focal_hypergranulosis\",\n",
    "    \"disappearance_of_the_granular_layer\",\n",
    "    \"vacuolisation_and_damage_of_basal_layer\",\n",
    "    \"spongiosis\",\n",
    "    \"saw_tooth_appearance_of_retes\",\n",
    "    \"follicular_horn_plug\",\n",
    "    \"perifollicular_parakeratosis\",\n",
    "    \"inflammatory_monoluclear_inflitrate\",\n",
    "    \"band_like_infiltrate\",\n",
    "    \"age\",\n",
    "    \"class\"  # Ostatnia kolumna reprezentuje klasę/chorobę (1-6)\n",
    "]\n",
    "\n",
    "# Ze względu na strukturę pliku można użyć funkcji read_csv\n",
    "df = pd.read_csv(file_path, header=None, names=column_names)\n",
    "\n",
    "# Wyświetlenie całego DataFrame\n",
    "df\n"
   ]
  },
  {
   "cell_type": "markdown",
   "metadata": {},
   "source": [
    "Zamiana znaków \"?\" na wartości NaN"
   ]
  },
  {
   "cell_type": "code",
   "execution_count": null,
   "metadata": {},
   "outputs": [],
   "source": [
    "df.replace(\"?\", float(\"NaN\"), inplace=True)\n",
    "\n",
    "df"
   ]
  },
  {
   "cell_type": "markdown",
   "metadata": {},
   "source": [
    "Sortowanie według wieku rosnąco (wiek jako tekst) w celu lepszej wizualizacji danych na wykresie"
   ]
  },
  {
   "cell_type": "code",
   "execution_count": null,
   "metadata": {},
   "outputs": [],
   "source": [
    "df_sorted = df.sort_values(by='age')"
   ]
  },
  {
   "cell_type": "markdown",
   "metadata": {},
   "source": [
    "Wyświetlenie statystyk opisowych dla każdej kolumny"
   ]
  },
  {
   "cell_type": "code",
   "execution_count": null,
   "metadata": {},
   "outputs": [],
   "source": [
    "df.describe()"
   ]
  },
  {
   "cell_type": "markdown",
   "metadata": {},
   "source": [
    "Histogram dla kolumny Age"
   ]
  },
  {
   "cell_type": "code",
   "execution_count": null,
   "metadata": {},
   "outputs": [],
   "source": [
    "plt.figure(figsize=(16, 8))\n",
    "sns.histplot(df_sorted['age'], bins=20, kde=True)\n",
    "plt.title('Rozkład wieku pacjentów')\n",
    "plt.xlabel('Wiek')\n",
    "plt.ylabel('Liczność')\n",
    "plt.show()"
   ]
  },
  {
   "cell_type": "markdown",
   "metadata": {},
   "source": [
    "Wykres pudełkowy (box plot) dla cechy Age w zależności od klasy (diagnosis)"
   ]
  },
  {
   "cell_type": "code",
   "execution_count": null,
   "metadata": {},
   "outputs": [],
   "source": [
    "plt.figure(figsize=(10, 10))\n",
    "sns.boxplot(x='class', y='age', data=df_sorted)\n",
    "plt.title('Rozkład wieku pacjentów dla różnych diagnoz')\n",
    "plt.xlabel('Diagnoza')\n",
    "plt.ylabel('Wiek')\n",
    "plt.show()"
   ]
  },
  {
   "cell_type": "markdown",
   "metadata": {},
   "source": [
    "Znajdowanie pustych wartości w całym DataFrame"
   ]
  },
  {
   "cell_type": "code",
   "execution_count": null,
   "metadata": {},
   "outputs": [],
   "source": [
    "missing_values = df_sorted.isna().sum()\n",
    "\n",
    "missing_values"
   ]
  },
  {
   "cell_type": "markdown",
   "metadata": {},
   "source": [
    "Można zauważyć, że tylko w kolumnie age brakuje wieku dla paru osób. Jest to około 2% wszystkich rekordów. Można w tym wypadku uzupełnić brakujące wartości, na przykład medianą."
   ]
  },
  {
   "cell_type": "code",
   "execution_count": null,
   "metadata": {},
   "outputs": [],
   "source": [
    "# Wypełnienie brakujących wartości medianą wieku\n",
    "age_median = df_sorted['age'].median()\n",
    "df_sorted['age'].fillna(age_median, inplace=True)"
   ]
  },
  {
   "cell_type": "markdown",
   "metadata": {},
   "source": [
    "Zamiana wartości Age na typ całkowity (żeby przygotować dane do dalszych obliczeń) i ponowne sortowanie."
   ]
  },
  {
   "cell_type": "code",
   "execution_count": null,
   "metadata": {},
   "outputs": [],
   "source": [
    "# Zamiana wartości Age na int\n",
    "df_sorted['age'] = df_sorted['age'].astype(int)\n",
    "\n",
    "# Ponowne sortowanie według Age\n",
    "df_sorted = df_sorted.sort_values(by='age')\n",
    "\n",
    "# Wyświetlenie DataFrame po sortowaniu\n",
    "df_sorted"
   ]
  },
  {
   "cell_type": "markdown",
   "metadata": {},
   "source": [
    "Sprawdźmy, które kolumny są całkowicie wypełnione zerami (tj. gdzie dana cecha nie występuje dla żadnej choroby)."
   ]
  },
  {
   "cell_type": "code",
   "execution_count": null,
   "metadata": {},
   "outputs": [],
   "source": [
    "# Sprawdzenie, które kolumny mają same zera\n",
    "columns_with_zeros = df_sorted.columns[(df_sorted == 0).all()]\n",
    "\n",
    "# Wyświetlenie nazw kolumn, które mają same zera\n",
    "print(\"Kolumny z samymi zerami:\", columns_with_zeros)"
   ]
  },
  {
   "cell_type": "markdown",
   "metadata": {},
   "source": [
    "Najwyraźniej wszystkie cechy występują w którymś rodzaju choroby, zatem można przyjąć, że wszystkie one są istotne w klasyfikacji danej jednostki chorobowej."
   ]
  },
  {
   "cell_type": "markdown",
   "metadata": {},
   "source": [
    "Model, który ma w nazwie \"naive\" to \"Naive Bayes\". Jest to rodzaj algorytmu klasyfikacji probabilistycznej oparty na twierdzeniu Bayesa. Algorytm ten zakłada niezależność wszystkich cech, dlatego nazywany jest \"naiwnym\" (ang. naive). Choć założenie to może być dość silne i rzadko spełnione w rzeczywistych danych, algorytm ten jest prosty i działa dobrze w wielu przypadkach, szczególnie gdy dane są odpowiednio przetworzone lub mają właściwości zbliżone do niezależności. Naive Bayes znajduje zastosowanie w wielu dziedzinach, takich jak analiza tekstu, klasyfikacja e-maili jako spam/nie-spam, diagnostyka medyczna, itp."
   ]
  }
 ],
 "metadata": {
  "kernelspec": {
   "display_name": "Python 3",
   "language": "python",
   "name": "python3"
  },
  "language_info": {
   "codemirror_mode": {
    "name": "ipython",
    "version": 3
   },
   "file_extension": ".py",
   "mimetype": "text/x-python",
   "name": "python",
   "nbconvert_exporter": "python",
   "pygments_lexer": "ipython3",
   "version": "3.10.11"
  },
  "orig_nbformat": 4
 },
 "nbformat": 4,
 "nbformat_minor": 2
}
